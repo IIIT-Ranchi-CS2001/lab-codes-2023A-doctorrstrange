str1[0] = "Mera"
s = "Mahan"
print(str1[0],str1[1],s)