{
 "cells": [
  {
   "cell_type": "code",
   "execution_count": 8,
   "id": "8cdea8a6-f72a-4ef9-b13f-8134794dc46a",
   "metadata": {},
   "outputs": [
    {
     "name": "stdout",
     "output_type": "stream",
     "text": [
      "mAHA bHARAT\n"
     ]
    }
   ],
   "source": [
    "str = \"Maha Bharat\"\n",
    "str = str.swapcase()\n",
    "print(str)"
   ]
  },
  {
   "cell_type": "code",
   "execution_count": 10,
   "id": "ebe4ea4b-4298-49ff-b64b-45d75191f385",
   "metadata": {},
   "outputs": [
    {
     "name": "stdout",
     "output_type": "stream",
     "text": [
      "Bharat\n"
     ]
    }
   ],
   "source": [
    "str = \"Maha Bharat\"\n",
    "# str1 = str[5:]..method2\n",
    "str1 = str.split(\" \")\n",
    "print(str1[1])"
   ]
  },
  {
   "cell_type": "code",
   "execution_count": 11,
   "id": "9f68942e-bb9f-4920-afb1-7663cc1bc425",
   "metadata": {},
   "outputs": [
    {
     "name": "stdout",
     "output_type": "stream",
     "text": [
      "BharatBharatBharat\n"
     ]
    }
   ],
   "source": [
    "print(str1[1]*3)"
   ]
  },
  {
   "cell_type": "code",
   "execution_count": null,
   "id": "a1c231c7-616a-4574-b920-6ff1342b6e9c",
   "metadata": {},
   "outputs": [
    {
     "name": "stdout",
     "output_type": "stream",
     "text": [
      "Mera Bharat\n"
     ]
    }
   ],
   "source": [
    "str1[0] = \"Mera\"\n",
    "print(str1[0],str1[1])"
   ]
  },
  {
   "cell_type": "code",
   "execution_count": null,
   "id": "a2fa5f2d-ff76-4fb6-a178-e55036e1f45e",
   "metadata": {},
   "outputs": [
    {
     "name": "stdout",
     "output_type": "stream",
     "text": [
      "Maha Bharat Mahan\n"
     ]
    }
   ],
   "source": [
    "str+=\" Mahan\"\n",
    "str = \"Mera Bharat Mahan\"\n",
    "print(str)"
   ]
  },
  {
   "cell_type": "code",
   "execution_count": null,
   "id": "01a5f861-811c-4cd0-b741-a84ed3a01583",
   "metadata": {},
   "outputs": [
    {
     "name": "stdout",
     "output_type": "stream",
     "text": [
      "17\n",
      "14\n",
      "3\n",
      "Ta Ta Black Sheep\n"
     ]
    }
   ],
   "source": [
    "s = \"Ba Ba Black Sheep\"\n",
    "print(len(s))\n",
    "print(s.index(\"e\"))\n",
    "print(s.count(\"a\"))\n",
    "b = s.replace(\"B\",\"T\",2)\n",
    "print(b)"
   ]
  },
  {
   "cell_type": "code",
   "execution_count": null,
   "id": "7edca4dc-c446-4dbe-a834-2743528f5036",
   "metadata": {},
   "outputs": [
    {
     "name": "stdout",
     "output_type": "stream",
     "text": [
      "Enter the string : dad\n"
     ]
    },
    {
     "name": "stdout",
     "output_type": "stream",
     "text": [
      "Palindrome\n"
     ]
    }
   ],
   "source": [
    "str = input(\"Enter the string :\")\n",
    "str1 = str[::-1]\n",
    "if str1==str:\n",
    "    print(\"Palindrome\")\n",
    "else:\n",
    "    print(\"Not palindrome\")"
   ]
  },
  {
   "cell_type": "code",
   "execution_count": null,
   "id": "8538b54b-fa45-42b4-8b2b-ea5a3c3c20f7",
   "metadata": {},
   "outputs": [
    {
     "name": "stdout",
     "output_type": "stream",
     "text": [
      "Enter name: Arpan\n",
      "Enter the roll_num: 12\n",
      "Enter marks : 98\n"
     ]
    },
    {
     "name": "stdout",
     "output_type": "stream",
     "text": [
      "Name: Arpan\n",
      " Roll Number: 12\n",
      " Marks: 98\n",
      " Grade point: 10\n",
      " Remark: Outstanding\n"
     ]
    }
   ],
   "source": [
    "name = input(\"Enter name:\")\n",
    "roll_num = int(input(\"Enter the roll_num:\"))\n",
    "marks = int(input(\"Enter marks :\"))\n",
    "grade = 0   \n",
    "remark = 0\n",
    "if marks>=90:\n",
    "    grade = 10\n",
    "    remark = \"Outstanding\"\n",
    "elif marks>=80:\n",
    "    grade = 9\n",
    "    remark = \"Very Good\"\n",
    "elif marks>=70:\n",
    "    grade = 8\n",
    "    remark = \"Good\"\n",
    "elif marks>=60:\n",
    "    grade = 7\n",
    "    remark = \"Average\"\n",
    "elif marks>=50:\n",
    "    grade = 6\n",
    "    remark = \"Pass\"\n",
    "else:\n",
    "    grade = 0\n",
    "    remark = \"Fail\"\n",
    "\n",
    "print(f\"Name: {name}\\n Roll Number: {roll_num}\\n Marks: {marks}\\n Grade point: {grade}\\n Remark: {remark}\")"
   ]
  },
  {
   "cell_type": "code",
   "execution_count": null,
   "id": "f49a4ac1-c36d-403c-bed3-cc88a1120214",
   "metadata": {},
   "outputs": [
    {
     "name": "stdout",
     "output_type": "stream",
     "text": [
      "Enter first cofficient : 1\n",
      "Enter second cofficient : -5\n",
      "Enter third cofficient : 6\n"
     ]
    },
    {
     "name": "stdout",
     "output_type": "stream",
     "text": [
      "3.0 2.0\n"
     ]
    }
   ],
   "source": [
    "import math\n",
    "a = int(input(\"Enter first cofficient :\"))\n",
    "b = int(input(\"Enter second cofficient :\"))\n",
    "c = int(input(\"Enter third cofficient :\"))\n",
    "d = pow((b**2 - (4*a*c)),0.5)\n",
    "if d==0:\n",
    "    print(\"Roots are real and equal\")\n",
    "    print(-b/(float(2*a)),-b/(float(2*a)))\n",
    "\n",
    "elif d>0:\n",
    "    print(\"Roots are real and distinct\")\n",
    "    print((-b+d)/(float(2*a)),(-b-d)/(float(2*a)))\n",
    "else:\n",
    "    print(\"Imaginary roots\")\n",
    "    print(f\"Real part:{-b/(float(2*a))},Imaginary part:{d}\")\n"
   ]
  }
 ],
 "metadata": {
  "kernelspec": {
   "display_name": "Python 3 (ipykernel)",
   "language": "python",
   "name": "python3"
  },
  "language_info": {
   "codemirror_mode": {
    "name": "ipython",
    "version": 3
   },
   "file_extension": ".py",
   "mimetype": "text/x-python",
   "name": "python",
   "nbconvert_exporter": "python",
   "pygments_lexer": "ipython3",
   "version": "3.12.4"
  }
 },
 "nbformat": 4,
 "nbformat_minor": 5
}
